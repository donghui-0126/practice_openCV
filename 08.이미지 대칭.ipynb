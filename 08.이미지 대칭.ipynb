{
 "cells": [
  {
   "cell_type": "markdown",
   "id": "0f0b0645",
   "metadata": {},
   "source": [
    "# 8. 이미지 대칭"
   ]
  },
  {
   "cell_type": "markdown",
   "id": "c34c4b72",
   "metadata": {},
   "source": [
    "## 좌우 대칭"
   ]
  },
  {
   "cell_type": "code",
   "execution_count": 4,
   "id": "26a34ea2",
   "metadata": {},
   "outputs": [],
   "source": [
    "import cv2\n",
    "img = cv2.imread('pic/img.jpg')\n",
    "flip_horizonral = cv2.flip(img,1) #filpcode > 0 => 좌우대칭\n",
    "\n",
    "cv2.imshow('img', img)\n",
    "cv2.imshow('flip_horizonral',flip_horizonral)\n",
    "cv2.waitKey(0)\n",
    "cv2.destroyAllWindows()"
   ]
  },
  {
   "cell_type": "markdown",
   "id": "f42da930",
   "metadata": {},
   "source": [
    "# 상하 대칭"
   ]
  },
  {
   "cell_type": "code",
   "execution_count": 9,
   "id": "849ca755",
   "metadata": {},
   "outputs": [],
   "source": [
    "import cv2\n",
    "img = cv2.imread('pic/img.jpg')\n",
    "flip_vertical = cv2.flip(img,0) #filpcode == 0 => 상하대칭\n",
    "\n",
    "cv2.imshow('img', img)\n",
    "cv2.imshow('flip_vertical',flip_vertical)\n",
    "cv2.waitKey(0)\n",
    "cv2.destroyAllWindows()"
   ]
  },
  {
   "cell_type": "markdown",
   "id": "4287b82c",
   "metadata": {},
   "source": [
    "## 상하좌우 대칭"
   ]
  },
  {
   "cell_type": "code",
   "execution_count": 11,
   "id": "2d7f99bb",
   "metadata": {},
   "outputs": [],
   "source": [
    "import cv2\n",
    "img = cv2.imread('pic/img.jpg')\n",
    "flip_both = cv2.flip(img,-1) #filpcode < 0 => 상하좌우대칭\n",
    "\n",
    "cv2.imshow('img', img)\n",
    "cv2.imshow('flip_both',flip_both)\n",
    "cv2.waitKey(0)\n",
    "cv2.destroyAllWindows()"
   ]
  },
  {
   "cell_type": "code",
   "execution_count": null,
   "id": "32ad1dd8",
   "metadata": {},
   "outputs": [],
   "source": []
  }
 ],
 "metadata": {
  "kernelspec": {
   "display_name": "Python 3 (ipykernel)",
   "language": "python",
   "name": "python3"
  },
  "language_info": {
   "codemirror_mode": {
    "name": "ipython",
    "version": 3
   },
   "file_extension": ".py",
   "mimetype": "text/x-python",
   "name": "python",
   "nbconvert_exporter": "python",
   "pygments_lexer": "ipython3",
   "version": "3.9.7"
  }
 },
 "nbformat": 4,
 "nbformat_minor": 5
}
