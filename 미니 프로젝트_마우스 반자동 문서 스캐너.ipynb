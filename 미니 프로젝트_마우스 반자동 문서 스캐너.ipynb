{
 "cells": [
  {
   "cell_type": "markdown",
   "id": "d8ace15e",
   "metadata": {},
   "source": [
    "## 마우스 이벤트 등록"
   ]
  },
  {
   "cell_type": "code",
   "execution_count": 8,
   "id": "17453d1f",
   "metadata": {},
   "outputs": [
    {
     "name": "stdout",
     "output_type": "stream",
     "text": [
      "왼쪽 버튼 Down\n",
      "1151 279\n",
      "왼쪽 버튼 Up\n",
      "1151 279\n",
      "왼쪽 버튼 더블 클릭\n",
      "1151 279\n",
      "왼쪽 버튼 Up\n",
      "1151 279\n"
     ]
    }
   ],
   "source": [
    "import cv2\n",
    "\n",
    "def mouse_handler(event, x, y, flags, param):\n",
    "    if event == cv2.EVENT_LBUTTONDOWN: # 마우스 왼쪽 버튼 down\n",
    "        print('왼쪽 버튼 Down')\n",
    "        print(x, y)\n",
    "    elif event== cv2.EVENT_LBUTTONUP: #마우스 왼쪽 버튼 up\n",
    "        print('왼쪽 버튼 Up')\n",
    "        print(x, y)\n",
    "    elif event== cv2.EVENT_LBUTTONDBLCLK: #마우스 더블 클릭\n",
    "        print('왼쪽 버튼 더블 클릭')\n",
    "        print(x, y)\n",
    "#     elif event== cv2.EVENT_MOUSEMOVE: #마우스 왼쪽 버튼 up\n",
    "#         print('마우스 이동')\n",
    "        \n",
    "img = cv2.imread('pic/poker.jpg')\n",
    "cv2.namedWindow('img') # img란 이름의 윈도우를 먼저 만들어두는 것. 여기에 마우스 이벤트를 처리하기 위한 핸들러 적용\n",
    "cv2.setMouseCallback('img', mouse_handler)\n",
    "cv2.imshow('img', img)\n",
    "cv2.waitKey(0)\n",
    "cv2.destroyAllWindows()\n",
    "\n"
   ]
  },
  {
   "cell_type": "markdown",
   "id": "2bdb39fc",
   "metadata": {},
   "source": [
    "# 프로젝트"
   ]
  },
  {
   "cell_type": "markdown",
   "id": "1b343a83",
   "metadata": {},
   "source": [
    "#### 실시간으로 마우스로 캡쳐하고 직사각형 모양으로 리턴해주는 프로그램"
   ]
  },
  {
   "cell_type": "code",
   "execution_count": 12,
   "id": "a4729119",
   "metadata": {},
   "outputs": [],
   "source": [
    "import cv2\n",
    "import numpy as np\n",
    "\n",
    "src_img = cv2.imread('pic/poker.jpg')\n",
    "\n",
    "point_list = []\n",
    "\n",
    "COLOR = (255,0,255)\n",
    "\n",
    "drawing = False\n",
    "\n",
    "def mouse_handler(event, x, y, flags, param):\n",
    "    global drawing\n",
    "    \n",
    "    if event == cv2.EVENT_LBUTTONDOWN: # 마우스 왼쪽 버튼 down\n",
    "        point_list.append((x,y))\n",
    "        current_point = point_list[-1]\n",
    "        cv2.circle(src_img, current_point, 30, COLOR, cv2.FILLED)\n",
    "        \n",
    "        if len(point_list) > 1:\n",
    "            prev_point = point_list[-2]\n",
    "            cv2.line(src_img, prev_point, current_point, COLOR, 3, cv2.LINE_AA)\n",
    "            \n",
    "            \n",
    "    \n",
    "    if len(point_list)==4:\n",
    "        cv2.line(src_img, point_list[0], point_list[-1], COLOR, 3, cv2.LINE_AA)\n",
    "        show_result()\n",
    "        \n",
    "    cv2.imshow('img', src_img)\n",
    "        \n",
    "def show_result():\n",
    "    width, height = 530, 710 \n",
    "    src = np.float32(point_list) # 인풋 4개 지점\n",
    "    dst = np.array([[0,0], [width, 0], [width, height], [0, height]],dtype=np.float32)\n",
    "\n",
    "    matrix = cv2.getPerspectiveTransform(src,dst) # matrix 얻어옴\n",
    "    result = cv2.warpPerspective(src_img, matrix, (width,height)) #matrix 대로 변환을 함\n",
    "    # 좌상, 우상, 우하, 좌하 (시계방향으로 지정)\n",
    "    cv2.imshow('result', result)\n",
    "        \n",
    "cv2.namedWindow('img') # img란 이름의 윈도우를 먼저 만들어두는 것. 여기에 마우스 이벤트를 처리하기 위한 핸들러 적용\n",
    "cv2.setMouseCallback('img', mouse_handler)\n",
    "cv2.imshow('img', src_img)\n",
    "cv2.waitKey(0)\n",
    "cv2.destroyAllWindows()"
   ]
  }
 ],
 "metadata": {
  "kernelspec": {
   "display_name": "Python 3 (ipykernel)",
   "language": "python",
   "name": "python3"
  },
  "language_info": {
   "codemirror_mode": {
    "name": "ipython",
    "version": 3
   },
   "file_extension": ".py",
   "mimetype": "text/x-python",
   "name": "python",
   "nbconvert_exporter": "python",
   "pygments_lexer": "ipython3",
   "version": "3.9.7"
  }
 },
 "nbformat": 4,
 "nbformat_minor": 5
}
