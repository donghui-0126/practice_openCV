{
 "cells": [
  {
   "cell_type": "markdown",
   "id": "bf61a041",
   "metadata": {},
   "source": [
    "# 10. 이미지 변형(흑백)"
   ]
  },
  {
   "cell_type": "markdown",
   "id": "d87ea9aa",
   "metadata": {},
   "source": [
    "이미지를 흑백으로 읽음"
   ]
  },
  {
   "cell_type": "code",
   "execution_count": 1,
   "id": "e9e3660d",
   "metadata": {},
   "outputs": [],
   "source": [
    "import cv2\n",
    "img = cv2.imread('pic/img.jpg', cv2.IMREAD_GRAYSCALE)\n",
    "cv2.imshow('img', img)\n",
    "cv2.waitKey(0)\n",
    "cv2.destroyAllWindows()"
   ]
  },
  {
   "cell_type": "markdown",
   "id": "b4f52d51",
   "metadata": {},
   "source": [
    "불러온 이미지를 흑백으로 변경"
   ]
  },
  {
   "cell_type": "code",
   "execution_count": 2,
   "id": "edc6fbd3",
   "metadata": {},
   "outputs": [],
   "source": [
    "import cv2\n",
    "img = cv2.imread('pic/img.jpg')\n",
    "\n",
    "dst = cv2.cvtColor(img, cv2.COLOR_BGR2GRAY)\n",
    "\n",
    "cv2.imshow('img', img)\n",
    "cv2.imshow('dst', dst)\n",
    "cv2.waitKey(0)\n",
    "cv2.destroyAllWindows()"
   ]
  },
  {
   "cell_type": "markdown",
   "id": "00a02d12",
   "metadata": {},
   "source": [
    "# 11. 이미지 변형(흐림)"
   ]
  },
  {
   "cell_type": "markdown",
   "id": "6f96f711",
   "metadata": {},
   "source": [
    "### 가우시안 블러"
   ]
  },
  {
   "cell_type": "markdown",
   "id": "20adfbbb",
   "metadata": {},
   "source": [
    " 커널 사이즈 변화에 따른 흐림"
   ]
  },
  {
   "cell_type": "code",
   "execution_count": 5,
   "id": "1d2e55bd",
   "metadata": {},
   "outputs": [],
   "source": [
    "import cv2\n",
    "img = cv2.imread('pic/img.jpg')\n",
    "\n",
    "#[3,3], [5,5], [7,7]\n",
    "kernel_3 = cv2.GaussianBlur(img, (3,3), 0)\n",
    "kernel_5 = cv2.GaussianBlur(img, (5,5), 0)\n",
    "kernel_7 = cv2.GaussianBlur(img, (7,7), 0)\n",
    "\n",
    "\n",
    "cv2.imshow('img', img)\n",
    "cv2.imshow('kernel_3', kernel_3)\n",
    "cv2.imshow('kernel_5', kernel_5)\n",
    "cv2.imshow('kernel_7', kernel_7)\n",
    "cv2.waitKey(0)\n",
    "cv2.destroyAllWindows()"
   ]
  },
  {
   "cell_type": "markdown",
   "id": "14c97595",
   "metadata": {},
   "source": [
    "표준 편자 변화에 따른 흐림"
   ]
  },
  {
   "cell_type": "code",
   "execution_count": 7,
   "id": "dd8d06f9",
   "metadata": {},
   "outputs": [],
   "source": [
    "import cv2\n",
    "img = cv2.imread('pic/img.jpg')\n",
    "\n",
    "sigma_1 = cv2.GaussianBlur(img, (0,0), 1)\n",
    "sigma_2 = cv2.GaussianBlur(img, (0,0), 2)\n",
    "sigma_3 = cv2.GaussianBlur(img, (0,0), 3)\n",
    "\n",
    "\n",
    "cv2.imshow('img', img)\n",
    "cv2.imshow('sigma_1', sigma_1)\n",
    "cv2.imshow('sigma_2', sigma_2)\n",
    "cv2.imshow('sigma_3', sigma_3)\n",
    "cv2.waitKey(0)\n",
    "cv2.destroyAllWindows()"
   ]
  },
  {
   "cell_type": "markdown",
   "id": "4969a51a",
   "metadata": {},
   "source": [
    "# 12. 이미지 변형(원근)"
   ]
  },
  {
   "cell_type": "markdown",
   "id": "f463e124",
   "metadata": {},
   "source": [
    "## 사다리꼴 이미지 펼치기"
   ]
  },
  {
   "cell_type": "code",
   "execution_count": 9,
   "id": "e5bf6f30",
   "metadata": {},
   "outputs": [],
   "source": [
    "import cv2\n",
    "import numpy as np\n",
    "\n",
    "img = cv2.imread('pic/newspaper.jpg')\n",
    "\n",
    "width, height = 640, 240 \n",
    "\n",
    "src = np.array([[512,352], [1008,345], [1122, 584], [455, 594]], dtype=np.float32) # 인풋 4개 지점\n",
    "dst = np.array([[0,0], [width, 0], [width, height], [0, height]],dtype=np.float32)\n",
    "\n",
    "matrix = cv2.getPerspectiveTransform(src,dst) # matrix 얻어옴\n",
    "result = cv2.warpPerspective(img, matrix, (width,height)) #matrix 대로 변환을 함\n",
    "# 좌상, 우상, 우하, 좌하 (시계방향으로 지정)\n",
    "\n",
    "cv2.imshow('img', img)\n",
    "cv2.imshow('result', result)\n",
    "\n",
    "cv2.waitKey(0)\n",
    "cv2.destroyAllWindows()"
   ]
  },
  {
   "cell_type": "markdown",
   "id": "699d5dc2",
   "metadata": {},
   "source": [
    "##  회전된 이미지 올바로 세우기"
   ]
  },
  {
   "cell_type": "code",
   "execution_count": 12,
   "id": "98940fcd",
   "metadata": {},
   "outputs": [],
   "source": [
    "import cv2\n",
    "import numpy as np\n",
    "\n",
    "img = cv2.imread('pic/poker.jpg')\n",
    "\n",
    "width, height = 530, 710 \n",
    "\n",
    "src = np.array([[702,143], [1133,414], [726, 1007], [276, 700]], dtype=np.float32) # 인풋 4개 지점\n",
    "dst = np.array([[0,0], [width, 0], [width, height], [0, height]],dtype=np.float32)\n",
    "\n",
    "matrix = cv2.getPerspectiveTransform(src,dst) # matrix 얻어옴\n",
    "result = cv2.warpPerspective(img, matrix, (width,height)) #matrix 대로 변환을 함\n",
    "# 좌상, 우상, 우하, 좌하 (시계방향으로 지정)\n",
    "\n",
    "cv2.imshow('img', img)\n",
    "cv2.imshow('result', result)\n",
    "\n",
    "cv2.waitKey(0)\n",
    "cv2.destroyAllWindows()"
   ]
  }
 ],
 "metadata": {
  "kernelspec": {
   "display_name": "Python 3 (ipykernel)",
   "language": "python",
   "name": "python3"
  },
  "language_info": {
   "codemirror_mode": {
    "name": "ipython",
    "version": 3
   },
   "file_extension": ".py",
   "mimetype": "text/x-python",
   "name": "python",
   "nbconvert_exporter": "python",
   "pygments_lexer": "ipython3",
   "version": "3.9.7"
  }
 },
 "nbformat": 4,
 "nbformat_minor": 5
}
