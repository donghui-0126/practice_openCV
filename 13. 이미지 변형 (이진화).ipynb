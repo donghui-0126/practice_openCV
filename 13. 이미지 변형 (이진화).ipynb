{
 "cells": [
  {
   "cell_type": "markdown",
   "id": "fa5016ea",
   "metadata": {},
   "source": [
    "# 13. 이미지 변형 (이진화)\n",
    "\n",
    "## Threshhold \n",
    "#### 이진화: 흰색과 검은색만 가지는 binary image로의 변환\n"
   ]
  },
  {
   "cell_type": "code",
   "execution_count": 4,
   "id": "8733857e",
   "metadata": {},
   "outputs": [],
   "source": [
    "import cv2 \n",
    "img = cv2.imread('pic/book.jpg', cv2.IMREAD_GRAYSCALE)\n",
    "\n",
    "ret, binary = cv2.threshold(img, 127, 255, cv2.THRESH_BINARY)\n",
    "# 원본 이미지, 임계값, 변형될 색, \n",
    "\n",
    "cv2.imshow('img', img)\n",
    "cv2.imshow('binary', binary)\n",
    "cv2.waitKey(0)\n",
    "cv2.destroyAllWindows()"
   ]
  },
  {
   "cell_type": "markdown",
   "id": "1af9855a",
   "metadata": {},
   "source": [
    "## Trackbar (값 변화에 따른 변형 확인)"
   ]
  },
  {
   "cell_type": "code",
   "execution_count": 1,
   "id": "21d1dc33",
   "metadata": {},
   "outputs": [],
   "source": [
    "import cv2\n",
    "\n",
    "def empty(pos):\n",
    "    ##print(pos)\n",
    "    pass\n",
    "\n",
    "img = cv2.imread('pic/book.jpg', cv2.IMREAD_GRAYSCALE)\n",
    "\n",
    "name = 'Trackbar'\n",
    "cv2.namedWindow(name)\n",
    "\n",
    "cv2.createTrackbar('threshold', name, 127, 255, empty)\n",
    "#bar 이름, 창의 이름, 초기값, 최대값, 이벤트 처리\n",
    "\n",
    "while True:\n",
    "    thresh = cv2.getTrackbarPos('threshold', name) #bar 이름, 창의 이름\n",
    "    ret, binary = cv2.threshold(img, thresh, 255, cv2.THRESH_BINARY)\n",
    "    \n",
    "    if not ret:\n",
    "        break\n",
    "\n",
    "    cv2.imshow(name, binary)\n",
    "    \n",
    "    if cv2.waitKey(1) == ord('q'):\n",
    "        break\n",
    "\n",
    "cv2.destroyAllWindows()"
   ]
  },
  {
   "cell_type": "markdown",
   "id": "ed0cf8c1",
   "metadata": {},
   "source": [
    "# Adaptive Threshhold\n",
    "이미지를 작은 영역으로 나누어서 임계치 적용"
   ]
  },
  {
   "cell_type": "code",
   "execution_count": 6,
   "id": "05d04630",
   "metadata": {},
   "outputs": [],
   "source": [
    "import cv2\n",
    "\n",
    "def empty(pos):\n",
    "    ##print(pos)\n",
    "    pass\n",
    "\n",
    "img = cv2.imread('pic/book.jpg', cv2.IMREAD_GRAYSCALE)\n",
    "\n",
    "name = 'Trackbar'\n",
    "cv2.namedWindow(name)\n",
    "\n",
    "cv2.createTrackbar('block_size', name, 25, 100, empty) #홀수만 가능, 1보다는 큰 값\n",
    "cv2.createTrackbar('c', name, 3, 10, empty) # 일반적으로 양수의 값을 사용\n",
    "#bar 이름, 창의 이름, 초기값, 최대값, 이벤트 처리\n",
    "\n",
    "while True:\n",
    "    block_size = cv2.getTrackbarPos('block_size', name) #bar 이름, 창의 이름\n",
    "    c = cv2.getTrackbarPos('c', name)\n",
    "    \n",
    "    if block_size <= 1: #1이하면 3으로\n",
    "        block_size = 3\n",
    "    \n",
    "    if block_size %2 == 0: # 짝수면 홀수로\n",
    "        block_size +=1\n",
    "    \n",
    "    binary = cv2.adaptiveThreshold(img,  255, cv2.ADAPTIVE_THRESH_MEAN_C, cv2.THRESH_BINARY, block_size, c)\n",
    "    \n",
    "\n",
    "    cv2.imshow(name, binary)\n",
    "    \n",
    "    if cv2.waitKey(1) == ord('q'):\n",
    "        break\n",
    "\n",
    "cv2.destroyAllWindows()"
   ]
  },
  {
   "cell_type": "markdown",
   "id": "732e54fb",
   "metadata": {},
   "source": [
    "# 오츠 알고리즘\n",
    "## 자동으로 최적의 트랙바를 찾아내는 알고리즘\n",
    "## Bimodal Image에 사용하기 적합 (최적의 임계치를 자동으로 발견)\n",
    "Bimodal Image 이미지 설명: https://m.blog.naver.com/PostView.naver?isHttpsRedirect=true&blogId=jerry1455&logNo=221341480823"
   ]
  },
  {
   "cell_type": "code",
   "execution_count": 9,
   "id": "894d63fc",
   "metadata": {},
   "outputs": [
    {
     "name": "stdout",
     "output_type": "stream",
     "text": [
      "ostu thresthhold 100.0\n"
     ]
    }
   ],
   "source": [
    "import cv2 \n",
    "img = cv2.imread('pic/book.jpg', cv2.IMREAD_GRAYSCALE)\n",
    "\n",
    "ret, binary = cv2.threshold(img, 127, 255, cv2.THRESH_BINARY)\n",
    "ret, otsu = cv2.threshold(img, -1, 255, cv2.THRESH_BINARY | cv2.THRESH_OTSU)\n",
    "# 원본 이미지, 임계값, 변형될 색, \n",
    "print('ostu thresthhold', ret)\n",
    "\n",
    "cv2.imshow('img', img)\n",
    "cv2.imshow('binary', binary)\n",
    "cv2.imshow('otsu', otsu)\n",
    "cv2.waitKey(0)\n",
    "cv2.destroyAllWindows()"
   ]
  }
 ],
 "metadata": {
  "kernelspec": {
   "display_name": "Python 3 (ipykernel)",
   "language": "python",
   "name": "python3"
  },
  "language_info": {
   "codemirror_mode": {
    "name": "ipython",
    "version": 3
   },
   "file_extension": ".py",
   "mimetype": "text/x-python",
   "name": "python",
   "nbconvert_exporter": "python",
   "pygments_lexer": "ipython3",
   "version": "3.9.7"
  }
 },
 "nbformat": 4,
 "nbformat_minor": 5
}
