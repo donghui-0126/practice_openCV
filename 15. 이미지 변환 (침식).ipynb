{
 "cells": [
  {
   "cell_type": "markdown",
   "id": "5790f8a5",
   "metadata": {},
   "source": [
    "# 15. 이미지 변환 (침식)\n",
    "흰색 영역의 외곽 픽셀을 검은색으로 변경"
   ]
  },
  {
   "cell_type": "code",
   "execution_count": 1,
   "id": "4ebfb9c5",
   "metadata": {},
   "outputs": [],
   "source": [
    "import cv2\n",
    "import numpy as np\n",
    "\n",
    "kernel = np.ones((3, 3), dtype = np.uint8)\n",
    "\n",
    "img = cv2.imread('pic/erode.png', cv2.IMREAD_GRAYSCALE)\n",
    "erode1 = cv2.erode(img, kernel, iterations=1) #반복횟수\n",
    "erode2 = cv2.erode(img, kernel, iterations=2) #반복횟수\n",
    "erode3 = cv2.erode(img, kernel, iterations=3) #반복횟수\n",
    "\n",
    "\n",
    "cv2.imshow('img', img)\n",
    "cv2.imshow('dilate1', erode1)\n",
    "cv2.imshow('dilate2', erode2)\n",
    "cv2.imshow('dilate3', erode3)\n",
    "cv2.waitKey(0)\n",
    "cv2.destroyAllWindows()"
   ]
  }
 ],
 "metadata": {
  "kernelspec": {
   "display_name": "Python 3 (ipykernel)",
   "language": "python",
   "name": "python3"
  },
  "language_info": {
   "codemirror_mode": {
    "name": "ipython",
    "version": 3
   },
   "file_extension": ".py",
   "mimetype": "text/x-python",
   "name": "python",
   "nbconvert_exporter": "python",
   "pygments_lexer": "ipython3",
   "version": "3.9.7"
  }
 },
 "nbformat": 4,
 "nbformat_minor": 5
}
